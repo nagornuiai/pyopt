{
 "cells": [
  {
   "cell_type": "code",
   "execution_count": 2,
   "metadata": {
    "collapsed": true
   },
   "outputs": [],
   "source": [
    "import random\n",
    "import time\n",
    "import sys"
   ]
  },
  {
   "cell_type": "code",
   "execution_count": 3,
   "metadata": {},
   "outputs": [],
   "source": [
    "def get_parent(geneSet, length):\n",
    "    parent = random.sample(geneSet, length)\n",
    "    return parent\n",
    "\n",
    "def mutate(parent, geneSet, length, current_fitness):\n",
    "    mutation_scale = length - current_fitness\n",
    "    mutation_index = random.sample(range(0, length), mutation_scale)\n",
    "    child = list(parent)\n",
    "    for index in mutation_index:\n",
    "        gene, alternate = random.sample(geneSet, 2)\n",
    "        child[index] = gene \\\n",
    "                       if gene != child[index] \\\n",
    "                       else alternate\n",
    "    return child\n",
    "    \n",
    "    \n",
    "def fitness(geneSet, target):\n",
    "    fitness_score = sum([c==t for (c,t) in zip(geneSet,target)])\n",
    "    return fitness_score\n",
    "\n",
    "def display(subject, current_fitness, start_time, count):\n",
    "    elapsed_time = time.time() - start_time\n",
    "    sys.stdout.write('\\rpopulation: {} | {} | fitness: {} | elapsed time: {}'.format(count, ''.join(subject), current_fitness, elapsed_time))\n",
    "    sys.stdout.flush()"
   ]
  },
  {
   "cell_type": "code",
   "execution_count": null,
   "metadata": {
    "collapsed": true
   },
   "outputs": [],
   "source": []
  },
  {
   "cell_type": "code",
   "execution_count": 13,
   "metadata": {},
   "outputs": [
    {
     "name": "stdout",
     "output_type": "stream",
     "text": [
      "5 1000\n"
     ]
    }
   ],
   "source": [
    "geneSet = [str(1000+i) for i in range(1000)] #'QAZWSXEDCRFVTGBYHNUJMIKOLPqazwsxedcrfvtgbyhnujmikop !@£$%^&*()_¡€#¢∞§¶•ªº–|\"\\;.,'\n",
    "target = ['1005', '1842', '1022', '1561', '1612']\n",
    "\n",
    "length = len(target)\n",
    "print length, len(geneSet)"
   ]
  },
  {
   "cell_type": "code",
   "execution_count": 14,
   "metadata": {},
   "outputs": [
    {
     "name": "stdout",
     "output_type": "stream",
     "text": [
      "population: 20274 | 10051842102215611612 | fitness: 5 | elapsed time: 32.1294009686"
     ]
    }
   ],
   "source": [
    "parent = get_parent(geneSet, len(target))\n",
    "start_time = time.time()\n",
    "\n",
    "count = 1\n",
    "\n",
    "while True:\n",
    "\n",
    "    parent_fitness = fitness(parent, target)\n",
    "    display(parent, parent_fitness, start_time, count)\n",
    "    if parent_fitness == length:\n",
    "        break\n",
    "    child = mutate(parent, geneSet, length, parent_fitness)\n",
    "    child_fitness = fitness(child, target)\n",
    "    \n",
    "    if child_fitness > parent_fitness:\n",
    "        parent = child\n",
    "        \n",
    "    else:\n",
    "        pass\n",
    "    count += 1\n",
    "    \n",
    "#     parten = child \\\n",
    "#              if child_fitness > parent_fitness \\\n",
    "#              else parent"
   ]
  },
  {
   "cell_type": "code",
   "execution_count": null,
   "metadata": {
    "collapsed": true
   },
   "outputs": [],
   "source": []
  },
  {
   "cell_type": "code",
   "execution_count": null,
   "metadata": {
    "collapsed": true
   },
   "outputs": [],
   "source": []
  },
  {
   "cell_type": "code",
   "execution_count": null,
   "metadata": {
    "collapsed": true
   },
   "outputs": [],
   "source": []
  },
  {
   "cell_type": "code",
   "execution_count": null,
   "metadata": {
    "collapsed": true
   },
   "outputs": [],
   "source": []
  },
  {
   "cell_type": "code",
   "execution_count": null,
   "metadata": {
    "collapsed": true
   },
   "outputs": [],
   "source": []
  },
  {
   "cell_type": "code",
   "execution_count": null,
   "metadata": {
    "collapsed": true
   },
   "outputs": [],
   "source": []
  },
  {
   "cell_type": "code",
   "execution_count": null,
   "metadata": {
    "collapsed": true
   },
   "outputs": [],
   "source": []
  },
  {
   "cell_type": "code",
   "execution_count": null,
   "metadata": {
    "collapsed": true
   },
   "outputs": [],
   "source": []
  },
  {
   "cell_type": "code",
   "execution_count": null,
   "metadata": {
    "collapsed": true
   },
   "outputs": [],
   "source": []
  },
  {
   "cell_type": "code",
   "execution_count": null,
   "metadata": {
    "collapsed": true
   },
   "outputs": [],
   "source": []
  },
  {
   "cell_type": "code",
   "execution_count": null,
   "metadata": {
    "collapsed": true
   },
   "outputs": [],
   "source": []
  },
  {
   "cell_type": "code",
   "execution_count": null,
   "metadata": {
    "collapsed": true
   },
   "outputs": [],
   "source": []
  },
  {
   "cell_type": "code",
   "execution_count": null,
   "metadata": {
    "collapsed": true
   },
   "outputs": [],
   "source": []
  },
  {
   "cell_type": "code",
   "execution_count": null,
   "metadata": {
    "collapsed": true
   },
   "outputs": [],
   "source": []
  },
  {
   "cell_type": "code",
   "execution_count": null,
   "metadata": {
    "collapsed": true
   },
   "outputs": [],
   "source": []
  },
  {
   "cell_type": "code",
   "execution_count": null,
   "metadata": {
    "collapsed": true
   },
   "outputs": [],
   "source": []
  }
 ],
 "metadata": {
  "kernelspec": {
   "display_name": "Python 2",
   "language": "python",
   "name": "python2"
  },
  "language_info": {
   "codemirror_mode": {
    "name": "ipython",
    "version": 2
   },
   "file_extension": ".py",
   "mimetype": "text/x-python",
   "name": "python",
   "nbconvert_exporter": "python",
   "pygments_lexer": "ipython2",
   "version": "2.7.14"
  }
 },
 "nbformat": 4,
 "nbformat_minor": 2
}
